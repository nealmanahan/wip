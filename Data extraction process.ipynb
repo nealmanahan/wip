{
 "cells": [
  {
   "cell_type": "markdown",
   "metadata": {},
   "source": [
    "# Data extraction process\n",
    "This document explains the steps to follow to extract the raw data for Red Siren project.\n",
    "\n",
    "### Structure\n",
    "These best practices have to be followed by all team members for project quality assurance purposes:\n",
    "- **Step 1:** Download MP3 formats only, works perfect with librosa.\n",
    "- **Step 2:** When using audacity lets use the following parameters:\n",
    "    - Use the time cut-offs of 30 seconds specified in the list named \"tracks\" (Note: do import>>labels)\n",
    "\n",
    "\n",
    "- **Step 3:** In Audacity do export>>multiple>> select the option marked split files based on \"Labels\", select MP3 format, choose \"Numbering after file name prefix\".\n",
    "\n",
    "- **Step 4:** When downloading the file create an id to reference from which \"file name\" the raw audio segment comes from (this is done on option \"Numbering after file name prefix\" on the last step). The audio file name acronym will be chosen by the person downloading the file, it must be added to our \"Coding name conventions\" file.\n",
    "\n"
   ]
  },
  {
   "cell_type": "code",
   "execution_count": null,
   "metadata": {},
   "outputs": [],
   "source": [
    "#Put here the code for the writing to csv here"
   ]
  },
  {
   "cell_type": "code",
   "execution_count": null,
   "metadata": {},
   "outputs": [],
   "source": [
    "#Librosa process\n",
    "#y is the wave form, sr is the cut of the wave form"
   ]
  },
  {
   "cell_type": "code",
   "execution_count": null,
   "metadata": {},
   "outputs": [],
   "source": []
  },
  {
   "cell_type": "code",
   "execution_count": null,
   "metadata": {},
   "outputs": [],
   "source": []
  },
  {
   "cell_type": "code",
   "execution_count": null,
   "metadata": {},
   "outputs": [],
   "source": []
  },
  {
   "cell_type": "code",
   "execution_count": null,
   "metadata": {},
   "outputs": [],
   "source": []
  }
 ],
 "metadata": {
  "kernelspec": {
   "display_name": "Python 3",
   "language": "python",
   "name": "python3"
  },
  "language_info": {
   "codemirror_mode": {
    "name": "ipython",
    "version": 3
   },
   "file_extension": ".py",
   "mimetype": "text/x-python",
   "name": "python",
   "nbconvert_exporter": "python",
   "pygments_lexer": "ipython3",
   "version": "3.7.1"
  }
 },
 "nbformat": 4,
 "nbformat_minor": 2
}
